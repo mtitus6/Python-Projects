{
  "cells": [
    {
      "cell_type": "markdown",
      "metadata": {
        "id": "view-in-github",
        "colab_type": "text"
      },
      "source": [
        "<a href=\"https://colab.research.google.com/github/mtitus6/Python-Projects/blob/main/fcc_sms_text_classification.ipynb\" target=\"_parent\"><img src=\"https://colab.research.google.com/assets/colab-badge.svg\" alt=\"Open In Colab\"/></a>"
      ]
    },
    {
      "cell_type": "markdown",
      "metadata": {
        "id": "Eg62Pmz3o83v"
      },
      "source": [
        "*Note: You are currently reading this using Google Colaboratory which is a cloud-hosted version of Jupyter Notebook. This is a document containing both text cells for documentation and runnable code cells. If you are unfamiliar with Jupyter Notebook, watch this 3-minute introduction before starting this challenge: https://www.youtube.com/watch?v=inN8seMm7UI*\n",
        "\n",
        "---\n",
        "\n",
        "In this challenge, you need to create a machine learning model that will classify SMS messages as either \"ham\" or \"spam\". A \"ham\" message is a normal message sent by a friend. A \"spam\" message is an advertisement or a message sent by a company.\n",
        "\n",
        "You should create a function called `predict_message` that takes a message string as an argument and returns a list. The first element in the list should be a number between zero and one that indicates the likeliness of \"ham\" (0) or \"spam\" (1). The second element in the list should be the word \"ham\" or \"spam\", depending on which is most likely.\n",
        "\n",
        "For this challenge, you will use the [SMS Spam Collection dataset](http://www.dt.fee.unicamp.br/~tiago/smsspamcollection/). The dataset has already been grouped into train data and test data.\n",
        "\n",
        "The first two cells import the libraries and data. The final cell tests your model and function. Add your code in between these cells.\n"
      ]
    },
    {
      "cell_type": "code",
      "source": [
        "import pandas as pd\n",
        "import numpy as np\n",
        "import tensorflow as tf\n",
        "from nltk.corpus import stopwords\n",
        "import nltk\n",
        "#nltk.download('stopwords')\n",
        "from nltk.corpus import stopwords\n",
        "import regex as re\n",
        "import keras\n",
        "from keras.preprocessing.text import Tokenizer\n",
        "from keras.preprocessing.sequence import pad_sequences\n",
        "from keras.preprocessing import sequence"
      ],
      "metadata": {
        "id": "fRICAEfCqroR"
      },
      "execution_count": null,
      "outputs": []
    },
    {
      "cell_type": "code",
      "execution_count": null,
      "metadata": {
        "id": "lMHwYXHXCar3",
        "colab": {
          "base_uri": "https://localhost:8080/"
        },
        "outputId": "245d80ea-79a5-41aa-e477-b26e18ce1a2f"
      },
      "outputs": [
        {
          "output_type": "stream",
          "name": "stdout",
          "text": [
            "--2022-01-21 15:17:01--  https://cdn.freecodecamp.org/project-data/sms/train-data.tsv\n",
            "Resolving cdn.freecodecamp.org (cdn.freecodecamp.org)... 172.67.70.149, 104.26.2.33, 104.26.3.33, ...\n",
            "Connecting to cdn.freecodecamp.org (cdn.freecodecamp.org)|172.67.70.149|:443... connected.\n",
            "HTTP request sent, awaiting response... 200 OK\n",
            "Length: 358233 (350K) [text/tab-separated-values]\n",
            "Saving to: ‘train-data.tsv’\n",
            "\n",
            "\rtrain-data.tsv        0%[                    ]       0  --.-KB/s               \rtrain-data.tsv      100%[===================>] 349.84K  --.-KB/s    in 0.03s   \n",
            "\n",
            "2022-01-21 15:17:01 (11.0 MB/s) - ‘train-data.tsv’ saved [358233/358233]\n",
            "\n",
            "--2022-01-21 15:17:01--  https://cdn.freecodecamp.org/project-data/sms/valid-data.tsv\n",
            "Resolving cdn.freecodecamp.org (cdn.freecodecamp.org)... 172.67.70.149, 104.26.2.33, 104.26.3.33, ...\n",
            "Connecting to cdn.freecodecamp.org (cdn.freecodecamp.org)|172.67.70.149|:443... connected.\n",
            "HTTP request sent, awaiting response... 200 OK\n",
            "Length: 118774 (116K) [text/tab-separated-values]\n",
            "Saving to: ‘valid-data.tsv’\n",
            "\n",
            "valid-data.tsv      100%[===================>] 115.99K  --.-KB/s    in 0.01s   \n",
            "\n",
            "2022-01-21 15:17:01 (10.2 MB/s) - ‘valid-data.tsv’ saved [118774/118774]\n",
            "\n"
          ]
        }
      ],
      "source": [
        "# get data files\n",
        "!wget https://cdn.freecodecamp.org/project-data/sms/train-data.tsv\n",
        "!wget https://cdn.freecodecamp.org/project-data/sms/valid-data.tsv\n",
        "\n",
        "train_file_path = \"train-data.tsv\"\n",
        "test_file_path = \"valid-data.tsv\""
      ]
    },
    {
      "cell_type": "code",
      "execution_count": null,
      "metadata": {
        "id": "g_h508FEClxO"
      },
      "outputs": [],
      "source": [
        "train_data = pd.read_csv(train_file_path,sep = '\\t',names=['label','message'])\n",
        "test_data = pd.read_csv(test_file_path,sep = '\\t',names=['label','message'])"
      ]
    },
    {
      "cell_type": "code",
      "source": [
        "test_data.info()"
      ],
      "metadata": {
        "colab": {
          "base_uri": "https://localhost:8080/"
        },
        "id": "TfgA-BseNo_2",
        "outputId": "49247bb1-e191-49d6-cef6-26e736d3d586"
      },
      "execution_count": null,
      "outputs": [
        {
          "output_type": "stream",
          "name": "stdout",
          "text": [
            "<class 'pandas.core.frame.DataFrame'>\n",
            "RangeIndex: 1392 entries, 0 to 1391\n",
            "Data columns (total 2 columns):\n",
            " #   Column   Non-Null Count  Dtype \n",
            "---  ------   --------------  ----- \n",
            " 0   label    1392 non-null   object\n",
            " 1   message  1392 non-null   object\n",
            "dtypes: object(2)\n",
            "memory usage: 21.9+ KB\n"
          ]
        }
      ]
    },
    {
      "cell_type": "code",
      "execution_count": null,
      "metadata": {
        "id": "zOMKywn4zReN",
        "colab": {
          "base_uri": "https://localhost:8080/",
          "height": 206
        },
        "outputId": "f1e839e0-13b8-4911-e15a-b8b8fda68958"
      },
      "outputs": [
        {
          "output_type": "execute_result",
          "data": {
            "text/html": [
              "\n",
              "  <div id=\"df-0a819215-7c33-4027-bda5-688dc065ba70\">\n",
              "    <div class=\"colab-df-container\">\n",
              "      <div>\n",
              "<style scoped>\n",
              "    .dataframe tbody tr th:only-of-type {\n",
              "        vertical-align: middle;\n",
              "    }\n",
              "\n",
              "    .dataframe tbody tr th {\n",
              "        vertical-align: top;\n",
              "    }\n",
              "\n",
              "    .dataframe thead th {\n",
              "        text-align: right;\n",
              "    }\n",
              "</style>\n",
              "<table border=\"1\" class=\"dataframe\">\n",
              "  <thead>\n",
              "    <tr style=\"text-align: right;\">\n",
              "      <th></th>\n",
              "      <th>label</th>\n",
              "      <th>message</th>\n",
              "    </tr>\n",
              "  </thead>\n",
              "  <tbody>\n",
              "    <tr>\n",
              "      <th>0</th>\n",
              "      <td>ham</td>\n",
              "      <td>ahhhh...just woken up!had a bad dream about u ...</td>\n",
              "    </tr>\n",
              "    <tr>\n",
              "      <th>1</th>\n",
              "      <td>ham</td>\n",
              "      <td>you can never do nothing</td>\n",
              "    </tr>\n",
              "    <tr>\n",
              "      <th>2</th>\n",
              "      <td>ham</td>\n",
              "      <td>now u sound like manky scouse boy steve,like! ...</td>\n",
              "    </tr>\n",
              "    <tr>\n",
              "      <th>3</th>\n",
              "      <td>ham</td>\n",
              "      <td>mum say we wan to go then go... then she can s...</td>\n",
              "    </tr>\n",
              "    <tr>\n",
              "      <th>4</th>\n",
              "      <td>ham</td>\n",
              "      <td>never y lei... i v lazy... got wat? dat day ü ...</td>\n",
              "    </tr>\n",
              "  </tbody>\n",
              "</table>\n",
              "</div>\n",
              "      <button class=\"colab-df-convert\" onclick=\"convertToInteractive('df-0a819215-7c33-4027-bda5-688dc065ba70')\"\n",
              "              title=\"Convert this dataframe to an interactive table.\"\n",
              "              style=\"display:none;\">\n",
              "        \n",
              "  <svg xmlns=\"http://www.w3.org/2000/svg\" height=\"24px\"viewBox=\"0 0 24 24\"\n",
              "       width=\"24px\">\n",
              "    <path d=\"M0 0h24v24H0V0z\" fill=\"none\"/>\n",
              "    <path d=\"M18.56 5.44l.94 2.06.94-2.06 2.06-.94-2.06-.94-.94-2.06-.94 2.06-2.06.94zm-11 1L8.5 8.5l.94-2.06 2.06-.94-2.06-.94L8.5 2.5l-.94 2.06-2.06.94zm10 10l.94 2.06.94-2.06 2.06-.94-2.06-.94-.94-2.06-.94 2.06-2.06.94z\"/><path d=\"M17.41 7.96l-1.37-1.37c-.4-.4-.92-.59-1.43-.59-.52 0-1.04.2-1.43.59L10.3 9.45l-7.72 7.72c-.78.78-.78 2.05 0 2.83L4 21.41c.39.39.9.59 1.41.59.51 0 1.02-.2 1.41-.59l7.78-7.78 2.81-2.81c.8-.78.8-2.07 0-2.86zM5.41 20L4 18.59l7.72-7.72 1.47 1.35L5.41 20z\"/>\n",
              "  </svg>\n",
              "      </button>\n",
              "      \n",
              "  <style>\n",
              "    .colab-df-container {\n",
              "      display:flex;\n",
              "      flex-wrap:wrap;\n",
              "      gap: 12px;\n",
              "    }\n",
              "\n",
              "    .colab-df-convert {\n",
              "      background-color: #E8F0FE;\n",
              "      border: none;\n",
              "      border-radius: 50%;\n",
              "      cursor: pointer;\n",
              "      display: none;\n",
              "      fill: #1967D2;\n",
              "      height: 32px;\n",
              "      padding: 0 0 0 0;\n",
              "      width: 32px;\n",
              "    }\n",
              "\n",
              "    .colab-df-convert:hover {\n",
              "      background-color: #E2EBFA;\n",
              "      box-shadow: 0px 1px 2px rgba(60, 64, 67, 0.3), 0px 1px 3px 1px rgba(60, 64, 67, 0.15);\n",
              "      fill: #174EA6;\n",
              "    }\n",
              "\n",
              "    [theme=dark] .colab-df-convert {\n",
              "      background-color: #3B4455;\n",
              "      fill: #D2E3FC;\n",
              "    }\n",
              "\n",
              "    [theme=dark] .colab-df-convert:hover {\n",
              "      background-color: #434B5C;\n",
              "      box-shadow: 0px 1px 3px 1px rgba(0, 0, 0, 0.15);\n",
              "      filter: drop-shadow(0px 1px 2px rgba(0, 0, 0, 0.3));\n",
              "      fill: #FFFFFF;\n",
              "    }\n",
              "  </style>\n",
              "\n",
              "      <script>\n",
              "        const buttonEl =\n",
              "          document.querySelector('#df-0a819215-7c33-4027-bda5-688dc065ba70 button.colab-df-convert');\n",
              "        buttonEl.style.display =\n",
              "          google.colab.kernel.accessAllowed ? 'block' : 'none';\n",
              "\n",
              "        async function convertToInteractive(key) {\n",
              "          const element = document.querySelector('#df-0a819215-7c33-4027-bda5-688dc065ba70');\n",
              "          const dataTable =\n",
              "            await google.colab.kernel.invokeFunction('convertToInteractive',\n",
              "                                                     [key], {});\n",
              "          if (!dataTable) return;\n",
              "\n",
              "          const docLinkHtml = 'Like what you see? Visit the ' +\n",
              "            '<a target=\"_blank\" href=https://colab.research.google.com/notebooks/data_table.ipynb>data table notebook</a>'\n",
              "            + ' to learn more about interactive tables.';\n",
              "          element.innerHTML = '';\n",
              "          dataTable['output_type'] = 'display_data';\n",
              "          await google.colab.output.renderOutput(dataTable, element);\n",
              "          const docLink = document.createElement('div');\n",
              "          docLink.innerHTML = docLinkHtml;\n",
              "          element.appendChild(docLink);\n",
              "        }\n",
              "      </script>\n",
              "    </div>\n",
              "  </div>\n",
              "  "
            ],
            "text/plain": [
              "  label                                            message\n",
              "0   ham  ahhhh...just woken up!had a bad dream about u ...\n",
              "1   ham                           you can never do nothing\n",
              "2   ham  now u sound like manky scouse boy steve,like! ...\n",
              "3   ham  mum say we wan to go then go... then she can s...\n",
              "4   ham  never y lei... i v lazy... got wat? dat day ü ..."
            ]
          },
          "metadata": {},
          "execution_count": 65
        }
      ],
      "source": [
        "train_data.head()"
      ]
    },
    {
      "cell_type": "code",
      "source": [
        "y_train = train_data.pop('label')\n",
        "y_test = test_data.pop('label')"
      ],
      "metadata": {
        "id": "PozSZJbJfhI5"
      },
      "execution_count": null,
      "outputs": []
    },
    {
      "cell_type": "code",
      "source": [
        "# convert y to binary\n",
        "y_train_bin = np.array([0 if element == 'ham' else 1 for element in y_train])\n",
        "y_test_bin = np.array([0 if element == 'ham' else 1 for element in y_test])"
      ],
      "metadata": {
        "id": "v1xLmj9LIfY6"
      },
      "execution_count": null,
      "outputs": []
    },
    {
      "cell_type": "code",
      "source": [
        "#clean out the special characters and stop words\n",
        "def clean_text(text, remove_stopwords=True):\n",
        "    '''Clean the text, with the option to remove stopwords'''\n",
        "    \n",
        "    # Convert words to lower case and split them\n",
        "    text = text.lower().split()\n",
        "\n",
        "    # Optionally, remove stop words\n",
        "    if remove_stopwords:\n",
        "        stops = set(stopwords.words(\"english\"))\n",
        "        text = [w for w in text if not w in stops]\n",
        "    \n",
        "    text = \" \".join(text)\n",
        "\n",
        "    # Clean the text\n",
        "    text = re.sub(r\"<br />\", \" \", text)\n",
        "    text = re.sub(r\"[^a-z]\", \" \", text)\n",
        "    text = re.sub(r\"   \", \" \", text) # Remove any extra spaces\n",
        "    text = re.sub(r\"  \", \" \", text)\n",
        "    \n",
        "    # Return a list of words\n",
        "    return(text)"
      ],
      "metadata": {
        "id": "Zp9bgxsBe2wU"
      },
      "execution_count": null,
      "outputs": []
    },
    {
      "cell_type": "code",
      "source": [
        "# Get the number of texts based on the dataframe column size\n",
        "num_rows = train_data.size\n",
        "\n",
        "# Initialize an empty list to hold the clean text\n",
        "train_clean = []\n",
        "\n",
        "# of the text list \n",
        "for i in range( 0, num_rows):\n",
        "    # Call our function for each one, and add the result to the list of\n",
        "    train_clean.append(clean_text(train_data['message'][i])) \n",
        "\n",
        "train_clean[0:10]"
      ],
      "metadata": {
        "colab": {
          "base_uri": "https://localhost:8080/"
        },
        "id": "rxk_AbxMfIYa",
        "outputId": "dff41195-7201-42d2-bd66-b6ae5866c532"
      },
      "execution_count": null,
      "outputs": [
        {
          "output_type": "execute_result",
          "data": {
            "text/plain": [
              "['ahhhh just woken up had bad dream u tho so dont like u right didnt know anything comedy night guess im it ',\n",
              " 'never nothing',\n",
              " 'u sound like manky scouse boy steve like travelling da bus home wot u inmind recreation dis eve ',\n",
              " 'mum say wan go go shun bian watch da glass exhibition ',\n",
              " 'never lei v lazy got wat dat day send da url cant work one ',\n",
              " 'xam hall boy asked girl tell starting term dis answer den manage lot hesitation n lookin around silently said the intha ponnungale ipaditan ',\n",
              " 'genius what s up brother pls send number skype ',\n",
              " 'finally came fix ceiling ',\n",
              " 'urgent call   landline complimentary ibiza holiday  cash await collection sae t cs po box  sk wp  ppm ',\n",
              " 'started dont stop pray good ideas anything see help guys i ll forward link ']"
            ]
          },
          "metadata": {},
          "execution_count": 70
        }
      ]
    },
    {
      "cell_type": "code",
      "source": [
        "# Get the number of texts based on the dataframe column size\n",
        "num_rows = test_data.size\n",
        "\n",
        "# Initialize an empty list to hold the clean text\n",
        "test_clean = []\n",
        "\n",
        "# of the text list \n",
        "for i in range( 0, num_rows):\n",
        "    # Call our function for each one, and add the result to the list of\n",
        "    test_clean.append(clean_text(test_data['message'][i])) \n",
        "\n",
        "test_clean[0:10]"
      ],
      "metadata": {
        "colab": {
          "base_uri": "https://localhost:8080/"
        },
        "id": "r13-aQfAs0Gi",
        "outputId": "37451e9d-e7b4-488d-8daf-77e64a90de86"
      },
      "execution_count": null,
      "outputs": [
        {
          "output_type": "execute_result",
          "data": {
            "text/plain": [
              "['hospital da return home evening',\n",
              " 'much textin bout you ',\n",
              " 'probably eat today think i m gonna pop weekend u miss me ',\n",
              " 'don t give flying monkeys wot think certainly don t mind friend mine that ',\n",
              " 'seeing ',\n",
              " 'opinion me  jada kusruthi lovable silent spl character matured stylish simple pls reply ',\n",
              " 'yesterday going home ',\n",
              " 'yes innocent fun o ',\n",
              " 'boy late home father power frndship',\n",
              " 'ur changes da report big cos i ve already made changes da previous report ']"
            ]
          },
          "metadata": {},
          "execution_count": 71
        }
      ]
    },
    {
      "cell_type": "code",
      "source": [
        "#tokenize all of the words\n",
        "all_data = train_clean + test_clean\n",
        "tokenizer = Tokenizer()\n",
        "tokenizer.fit_on_texts(all_data)\n",
        "\n",
        "train_seq = tokenizer.texts_to_sequences(train_clean)\n",
        "\n",
        "test_seq = tokenizer.texts_to_sequences(test_clean)\n",
        "\n",
        "train_seq[0]"
      ],
      "metadata": {
        "colab": {
          "base_uri": "https://localhost:8080/"
        },
        "id": "xL5R8SXuej92",
        "outputId": "bfbc565d-c233-43f8-94ba-101c5a029d4a"
      },
      "execution_count": null,
      "outputs": [
        {
          "output_type": "execute_result",
          "data": {
            "text/plain": [
              "[3899,\n",
              " 847,\n",
              " 2689,\n",
              " 203,\n",
              " 1768,\n",
              " 316,\n",
              " 848,\n",
              " 1,\n",
              " 560,\n",
              " 248,\n",
              " 47,\n",
              " 16,\n",
              " 1,\n",
              " 89,\n",
              " 347,\n",
              " 13,\n",
              " 110,\n",
              " 1769,\n",
              " 64,\n",
              " 258,\n",
              " 94,\n",
              " 29]"
            ]
          },
          "metadata": {},
          "execution_count": 72
        }
      ]
    },
    {
      "cell_type": "code",
      "source": [
        "#make all of the sequences the same length\n",
        "max_length = 25\n",
        "\n",
        "train_pad = pad_sequences(train_seq, maxlen = max_length)\n",
        "\n",
        "test_pad = pad_sequences(test_seq, maxlen = max_length)\n",
        "\n",
        "train_pad[0]"
      ],
      "metadata": {
        "colab": {
          "base_uri": "https://localhost:8080/"
        },
        "id": "YS8TmeOiBAOj",
        "outputId": "9a817269-e653-48fc-b866-c7d878f0f5d8"
      },
      "execution_count": null,
      "outputs": [
        {
          "output_type": "execute_result",
          "data": {
            "text/plain": [
              "array([   0,    0,    0, 3899,  847, 2689,  203, 1768,  316,  848,    1,\n",
              "        560,  248,   47,   16,    1,   89,  347,   13,  110, 1769,   64,\n",
              "        258,   94,   29], dtype=int32)"
            ]
          },
          "metadata": {},
          "execution_count": 73
        }
      ]
    },
    {
      "cell_type": "code",
      "source": [
        "#build model\n",
        "VOCAB_SIZE = len(tokenizer.word_index)\n",
        "model = tf.keras.Sequential([\n",
        "    tf.keras.layers.Embedding(VOCAB_SIZE, 32),\n",
        "    tf.keras.layers.LSTM(32),\n",
        "    tf.keras.layers.Dense(1, activation=\"sigmoid\")\n",
        "])"
      ],
      "metadata": {
        "id": "pzzEcYjyFJKx"
      },
      "execution_count": null,
      "outputs": []
    },
    {
      "cell_type": "code",
      "source": [
        "#train model\n",
        "model.compile(loss=\"binary_crossentropy\",optimizer=\"rmsprop\",metrics=['acc'])\n",
        "\n",
        "history = model.fit(train_pad, y_train_bin, epochs=10, validation_split=0.2)"
      ],
      "metadata": {
        "colab": {
          "base_uri": "https://localhost:8080/"
        },
        "id": "aDziId4bF8yR",
        "outputId": "adedd89d-3d84-4323-c404-c0083ad17838"
      },
      "execution_count": null,
      "outputs": [
        {
          "output_type": "stream",
          "name": "stdout",
          "text": [
            "Epoch 1/10\n",
            "105/105 [==============================] - 3s 11ms/step - loss: 0.2531 - acc: 0.9064 - val_loss: 0.1320 - val_acc: 0.9629\n",
            "Epoch 2/10\n",
            "105/105 [==============================] - 1s 6ms/step - loss: 0.0915 - acc: 0.9812 - val_loss: 0.0701 - val_acc: 0.9880\n",
            "Epoch 3/10\n",
            "105/105 [==============================] - 1s 7ms/step - loss: 0.0487 - acc: 0.9892 - val_loss: 0.0482 - val_acc: 0.9856\n",
            "Epoch 4/10\n",
            "105/105 [==============================] - 1s 6ms/step - loss: 0.0297 - acc: 0.9925 - val_loss: 0.0423 - val_acc: 0.9892\n",
            "Epoch 5/10\n",
            "105/105 [==============================] - 1s 6ms/step - loss: 0.0211 - acc: 0.9946 - val_loss: 0.0435 - val_acc: 0.9892\n",
            "Epoch 6/10\n",
            "105/105 [==============================] - 1s 7ms/step - loss: 0.0166 - acc: 0.9958 - val_loss: 0.0706 - val_acc: 0.9737\n",
            "Epoch 7/10\n",
            "105/105 [==============================] - 1s 7ms/step - loss: 0.0126 - acc: 0.9973 - val_loss: 0.0462 - val_acc: 0.9892\n",
            "Epoch 8/10\n",
            "105/105 [==============================] - 1s 6ms/step - loss: 0.0100 - acc: 0.9970 - val_loss: 0.0492 - val_acc: 0.9880\n",
            "Epoch 9/10\n",
            "105/105 [==============================] - 1s 7ms/step - loss: 0.0083 - acc: 0.9979 - val_loss: 0.0659 - val_acc: 0.9809\n",
            "Epoch 10/10\n",
            "105/105 [==============================] - 1s 7ms/step - loss: 0.0075 - acc: 0.9979 - val_loss: 0.0560 - val_acc: 0.9844\n"
          ]
        }
      ]
    },
    {
      "cell_type": "code",
      "source": [
        "#check accurracy on test data\n",
        "results = model.evaluate(test_pad, y_test_bin)"
      ],
      "metadata": {
        "colab": {
          "base_uri": "https://localhost:8080/"
        },
        "id": "OpN53mCxGpNK",
        "outputId": "9254b8c6-5bfc-41f7-824f-63fd471d2a70"
      },
      "execution_count": null,
      "outputs": [
        {
          "output_type": "stream",
          "name": "stdout",
          "text": [
            "44/44 [==============================] - 0s 3ms/step - loss: 0.0421 - acc: 0.9871\n"
          ]
        }
      ]
    },
    {
      "cell_type": "code",
      "source": [
        "def encode_text(text):\n",
        "  tokens = keras.preprocessing.text.text_to_word_sequence(text)\n",
        "  tokens = [tokenizer.word_index[word] if word in tokenizer.word_index else 0 for word in tokens]\n",
        "  return sequence.pad_sequences([tokens], max_length)[0]"
      ],
      "metadata": {
        "id": "SDsHF9mOK5ko"
      },
      "execution_count": null,
      "outputs": []
    },
    {
      "cell_type": "code",
      "execution_count": null,
      "metadata": {
        "id": "J9tD9yACG6M9"
      },
      "outputs": [],
      "source": [
        "# function to predict messages based on model\n",
        "# (should return list containing prediction and label, ex. [0.008318834938108921, 'ham'])\n",
        "def predict_message(pred_text):\n",
        "  # clean_text = clean_text(pred_text)\n",
        "  encoded_text = encode_text(pred_text)\n",
        "  prediction = np.zeros((1,25))\n",
        "  prediction[0] = encoded_text\n",
        "  result = model.predict(prediction) \n",
        "  if result <=0.5:\n",
        "    result_text = 'ham'\n",
        "  else:\n",
        "    result_text = 'spam' \n",
        "\n",
        "  return (result[0],  result_text)\n"
      ]
    },
    {
      "cell_type": "code",
      "execution_count": null,
      "metadata": {
        "id": "Dxotov85SjsC",
        "colab": {
          "base_uri": "https://localhost:8080/"
        },
        "outputId": "ffdcbe3c-fbd6-40c2-f5ea-fb0591fa7f3a"
      },
      "outputs": [
        {
          "output_type": "stream",
          "name": "stdout",
          "text": [
            "You passed the challenge. Great job!\n"
          ]
        }
      ],
      "source": [
        "# Run this cell to test your function and model. Do not modify contents.\n",
        "def test_predictions():\n",
        "  test_messages = [\"how are you doing today\",\n",
        "                   \"sale today! to stop texts call 98912460324\",\n",
        "                   \"i dont want to go. can we try it a different day? available sat\",\n",
        "                   \"our new mobile video service is live. just install on your phone to start watching.\",\n",
        "                   \"you have won £1000 cash! call to claim your prize.\",\n",
        "                   \"i'll bring it tomorrow. don't forget the milk.\",\n",
        "                   \"wow, is your arm alright. that happened to me one time too\"\n",
        "                  ]\n",
        "\n",
        "  test_answers = [\"ham\", \"spam\", \"ham\", \"spam\", \"spam\", \"ham\", \"ham\"]\n",
        "  passed = True\n",
        "\n",
        "  for msg, ans in zip(test_messages, test_answers):\n",
        "    prediction = predict_message(msg)\n",
        "    if prediction[1] != ans:\n",
        "      passed = False\n",
        "\n",
        "  if passed:\n",
        "    print(\"You passed the challenge. Great job!\")\n",
        "  else:\n",
        "    print(\"You haven't passed yet. Keep trying.\")\n",
        "\n",
        "test_predictions()\n"
      ]
    }
  ],
  "metadata": {
    "colab": {
      "collapsed_sections": [],
      "name": "fcc_sms_text_classification.ipynb",
      "provenance": [],
      "include_colab_link": true
    },
    "kernelspec": {
      "display_name": "Python 3",
      "name": "python3"
    },
    "language_info": {},
    "accelerator": "GPU"
  },
  "nbformat": 4,
  "nbformat_minor": 0
}